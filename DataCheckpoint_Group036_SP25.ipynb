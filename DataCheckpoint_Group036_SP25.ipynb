{
  "cells": [
    {
      "cell_type": "markdown",
      "metadata": {
        "id": "Numkuj4aDIwb"
      },
      "source": [
        "**If you lost points on the last checkpoint you can get them back by responding to TA/IA feedback**  \n",
        "\n",
        "Update/change the relevant sections where you lost those points, make sure you respond on GitHub Issues to your TA/IA to call their attention to the changes you made here.\n",
        "\n",
        "Please update your Timeline... no battle plan survives contact with the enemy, so make sure we understand how your plans have changed."
      ]
    },
    {
      "cell_type": "markdown",
      "metadata": {
        "id": "xaT-H3DTDIwe"
      },
      "source": [
        "# COGS 108 - Data Checkpoint"
      ]
    },
    {
      "cell_type": "markdown",
      "metadata": {
        "id": "mT1M6mXbDIwe"
      },
      "source": [
        "# Names\n",
        "\n",
        "- Eram Rahman\n",
        "- Edison Ayran\n",
        "- Oliver Chen\n",
        "- Yi-An Chao\n",
        "- Yadushan Thillainathan"
      ]
    },
    {
      "cell_type": "markdown",
      "metadata": {
        "id": "nGUB0KDEDIwf"
      },
      "source": [
        "# Research Question"
      ]
    },
    {
      "cell_type": "markdown",
      "metadata": {
        "id": "nWUX7L3hDIwf"
      },
      "source": [
        "Can an American customer's next clothing purchase category be predicted using seasonal timing and demographic attributes such as age, gender, and location?"
      ]
    },
    {
      "cell_type": "markdown",
      "metadata": {
        "id": "CXAR38cxDIwf"
      },
      "source": [
        "## Background and Prior Work"
      ]
    },
    {
      "cell_type": "markdown",
      "metadata": {
        "id": "XHHbWVkcDIwf"
      },
      "source": [
        "As e-commerce is becoming more of an important part of our everyday lives with us buying things from clothes to even food through online shopping, it is important for businesses to track these purchases and predict a customer's next purchase. By using the customer age, gender, and location along with common seasonal purchasing behaviors companies would be able to prepare to aid the customer needs. This would lead to greater customer satisfaction and loyalty as companies would be selling goods of greater importance to the customers. This would also aid companies in inventory management, marketing strategies and much more. Overall, being able to predict customers next purchase is important for customer satisfaction and building a business.\n",
        "\n",
        "Previous research has explored various ways to predict consumer behavior based on transactional history and demographic attributes. In a research paper called 'Predicting the Category of Customers’ Next Product to Buy in Web Shops' the researchers were able to develop a Sequential Event Prediction (SEP) model to predict the  next product category a customer will purchase as a webshop. Their model used general and also cusomter-specific purchasing behaviors and information to improve customer purchase predictions. The model with individual information and behaviors yielded an accuracy of 47.7%, the one with general information, 50.3%, and the mixed model, 50.7% <a name=\"cite_ref-1\"></a>[<sup>1</sup>](https://www.researchgate.net/publication/360448047_Predicting_the_category_of_customers'_next_product_to_buy_in_web_shops). This research paper showed how using customer-specific information along with general information is an important method to predict a customers next purchase category.\n",
        "\n",
        "Another study titled \"Predicting Customer Purchase Behavior Using Machine Learning Models\" explored how demographic variables such as age, gender, and income can be used to predict purchasing behavior. The researchers trained machine laarning models like decision trees and random forests to successfully predict what products customers were likely to buy. Their work highlighted that demographic attributes are important predictors of consumer behavior and can help companies better target marketing efforts and inventory planning. <a name=\"cite_ref-2\"></a>[<sup>2</sup>](https://www.researchgate.net/publication/382768389_Predicting_Customer_Purchase_Behavior_Using_Machine_Learning_Models)\n",
        "\n",
        "1. <a name=\"cite_note-1\"></a> [](#cite_ref-1) Rekasiute, Laura & Palenzuela, Alvaro & Salnaite, Nijole & Cuenca, Ramon & Frasincar, Flavius. (2022). Predicting the category of customers' next product to buy in web shops.\n",
        " https://www.researchgate.net/publication/360448047_Predicting_the_category_of_customers'_next_product_to_buy_in_web_shops\n",
        "2. <a name=\"cite_note-2\"></a> [](#cite_ref-2) Deniz, E. and Bülbül, S. Ç. PredictingCustomer Purchase Behavior Using Machine Learning Models.Information Technology in Economics and Business, 1(1), 1-6, 2024. https://www.researchgate.net/publication/382768389_Predicting_Customer_Purchase_Behavior_Using_Machine_Learning_Models"
      ]
    },
    {
      "cell_type": "markdown",
      "metadata": {
        "id": "sLiHbHWwDIwg"
      },
      "source": [
        "# Hypothesis\n"
      ]
    },
    {
      "cell_type": "markdown",
      "metadata": {
        "id": "5vbnkkWtDIwg"
      },
      "source": [
        "\n",
        "We hypothesize that a customer's next clothing purchase category can be accurately predicted using seasonal and demographic information. Specifically, we expect that younger customers will illustrate stronger seasonal variation in their clothing purchases. For example, buying more summer apparel during warmer months, while older customers may present more consistent purchasing patterns across seasons. We believe this because due to social media being a huge part of the younger generations lives, they are more susceptible to social media influence (for example summer/winter outfits on media such as instagram or tiktok) thus leading to stronger seasonal variations in clothes purchases."
      ]
    },
    {
      "cell_type": "markdown",
      "metadata": {
        "id": "B_0kl6YKDIwg"
      },
      "source": [
        "# Data"
      ]
    },
    {
      "cell_type": "markdown",
      "metadata": {
        "id": "98Fcj8OcDIwh"
      },
      "source": [
        "## Data overview\n",
        "\n",
        "For each dataset include the following information\n",
        "- Dataset #1\n",
        "  - Dataset Name: Customer Shopping (Latest Trends) Dataset\n",
        "  - Link to the dataset: https://www.kaggle.com/datasets/bhadramohit/customer-shopping-latest-trends-dataset\n",
        "  - Number of observations:3900\n",
        "  - Number of variables:19\n",
        "\n",
        "Now write 2 - 5 sentences describing each dataset here. Include a short description of the important variables in the dataset; what the metrics and datatypes are, what concepts they may be proxies for. Include information about how you would need to wrangle/clean/preprocess the dataset\n",
        "\n",
        "This dataset contains 3,900 observations and 19 variables related to customer demographics, shopping behavior, and purchase data. Key variables include Age, Gender, Item Purchased, Purchase Amount, and Location, which can serve as proxies for consumer preferences and spending patterns. The data types include both categorical (e.g., Category, Gender) and numerical fields (e.g., Purchase Amount, Age). To prepare the dataset for analysis, it would require cleaning steps such as handling missing values, encoding categorical variables, and standardizing numerical values. This dataset is useful for identifying consumer trends, segmenting customer types, or building predictive models for marketing or retail decision-making.\n",
        "\n",
        "\n",
        "\n",
        "If you plan to use multiple datasets, add a few sentences about how you plan to combine these datasets."
      ]
    },
    {
      "cell_type": "markdown",
      "metadata": {
        "id": "eC0M_PwFDIwh"
      },
      "source": [
        "##Customer Shopping (Latest Trends) Dataset"
      ]
    },
    {
      "cell_type": "markdown",
      "metadata": {
        "id": "zJ3y0S8fDIwi"
      },
      "source": [
        "## Dataset #2 (if you have more than one, use name instead of number here)"
      ]
    },
    {
      "cell_type": "code",
      "execution_count": 14,
      "metadata": {
        "colab": {
          "base_uri": "https://localhost:8080/",
          "height": 243
        },
        "id": "bwrtm-gRDIwh",
        "outputId": "13ef56c3-3627-4014-f06e-fd923d40ebeb"
      },
      "outputs": [
        {
          "output_type": "execute_result",
          "data": {
            "text/plain": [
              "Empty DataFrame\n",
              "Columns: [<html lang=\"en\"><head><meta http-equiv=\"Content-Type\" content=\"text/html; charset=ISO-8859-1\"><title>Redirect Notice</title><style>body, div, a{font-family:sans-serif}body{background-color:#fff;margin-top:3px}div{color:#000}a:link{color:#681da8}a:visited{color:#681da8}a:active{color:#ea4335}div.mymGo{border-top:1px solid #dadce0;border-bottom:1px solid #dadce0;background:#f8f9fa;margin-top:1em;width:100%}div.aXgaGb{padding:0.5em 0;margin-left:10px}div.fTk7vd{margin-left:35px;margin-top:35px}</style></head><body><div class=\"mymGo\"><div class=\"aXgaGb\"><font style=\"font-size:larger\"><b>Redirect Notice</b></font></div></div><div class=\"fTk7vd\">&nbsp;The previous page is sending you to <a href=\"https://www.kaggle.com/datasets/bhadramohit/customer-shopping-latest-trends-dataset\">https://www.kaggle.com/datasets/bhadramohit/customer-shopping-latest-trends-dataset</a>.<br><br>&nbsp;If you do not want to visit that page,  you can <a href=\"#\" id=\"tsuid_JN0jaIbIDbf3kPIP2PiE-Ao_1\">return to the previous page</a>.<script nonce=\"B06zb0xabFNPfFtullyAZQ\">(function(){var id='tsuid_JN0jaIbIDbf3kPIP2PiE-Ao_1';(function(){document.getElementById(id).onclick=function(){window.history.back();return!1};}).call(this);})();(function(){var id='tsuid_JN0jaIbIDbf3kPIP2PiE-Ao_1';var ct='originlink';var oi='unauthorizedredirect';(function(){document.getElementById(id).onmousedown=function(){var b=document&&document.referrer, a=\"encodeURIComponent\"in window?encodeURIComponent:escape, c=\"\";b&&(c=a(b));(new Image).src=\"/url?sa=T&url=\"+c+\"&oi=\"+a(oi)+\"&ct=\"+a(ct);return!1};}).call(this);})();</script><br><br><br></div></body></html>]\n",
              "Index: []"
            ],
            "text/html": [
              "\n",
              "  <div id=\"df-35638be2-3030-43f2-b3cc-c1a50c5dcf4e\" class=\"colab-df-container\">\n",
              "    <div>\n",
              "<style scoped>\n",
              "    .dataframe tbody tr th:only-of-type {\n",
              "        vertical-align: middle;\n",
              "    }\n",
              "\n",
              "    .dataframe tbody tr th {\n",
              "        vertical-align: top;\n",
              "    }\n",
              "\n",
              "    .dataframe thead th {\n",
              "        text-align: right;\n",
              "    }\n",
              "</style>\n",
              "<table border=\"1\" class=\"dataframe\">\n",
              "  <thead>\n",
              "    <tr style=\"text-align: right;\">\n",
              "      <th></th>\n",
              "      <th>&lt;html lang=\"en\"&gt;&lt;head&gt;&lt;meta http-equiv=\"Content-Type\" content=\"text/html; charset=ISO-8859-1\"&gt;&lt;title&gt;Redirect Notice&lt;/title&gt;&lt;style&gt;body</th>\n",
              "      <th>div</th>\n",
              "      <th>a{font-family:sans-serif}body{background-color:#fff;margin-top:3px}div{color:#000}a:link{color:#681da8}a:visited{color:#681da8}a:active{color:#ea4335}div.mymGo{border-top:1px solid #dadce0;border-bottom:1px solid #dadce0;background:#f8f9fa;margin-top:1em;width:100%}div.aXgaGb{padding:0.5em 0;margin-left:10px}div.fTk7vd{margin-left:35px;margin-top:35px}&lt;/style&gt;&lt;/head&gt;&lt;body&gt;&lt;div class=\"mymGo\"&gt;&lt;div class=\"aXgaGb\"&gt;&lt;font style=\"font-size:larger\"&gt;&lt;b&gt;Redirect Notice&lt;/b&gt;&lt;/font&gt;&lt;/div&gt;&lt;/div&gt;&lt;div class=\"fTk7vd\"&gt;&amp;nbsp;The previous page is sending you to &lt;a href=\"https://www.kaggle.com/datasets/bhadramohit/customer-shopping-latest-trends-dataset\"&gt;https://www.kaggle.com/datasets/bhadramohit/customer-shopping-latest-trends-dataset&lt;/a&gt;.&lt;br&gt;&lt;br&gt;&amp;nbsp;If you do not want to visit that page</th>\n",
              "      <th>you can &lt;a href=\"#\" id=\"tsuid_JN0jaIbIDbf3kPIP2PiE-Ao_1\"&gt;return to the previous page&lt;/a&gt;.&lt;script nonce=\"B06zb0xabFNPfFtullyAZQ\"&gt;(function(){var id='tsuid_JN0jaIbIDbf3kPIP2PiE-Ao_1';(function(){document.getElementById(id).onclick=function(){window.history.back();return!1};}).call(this);})();(function(){var id='tsuid_JN0jaIbIDbf3kPIP2PiE-Ao_1';var ct='originlink';var oi='unauthorizedredirect';(function(){document.getElementById(id).onmousedown=function(){var b=document&amp;&amp;document.referrer</th>\n",
              "      <th>a=\"encodeURIComponent\"in window?encodeURIComponent:escape</th>\n",
              "      <th>c=\"\";b&amp;&amp;(c=a(b));(new Image).src=\"/url?sa=T&amp;url=\"+c+\"&amp;oi=\"+a(oi)+\"&amp;ct=\"+a(ct);return!1};}).call(this);})();&lt;/script&gt;&lt;br&gt;&lt;br&gt;&lt;br&gt;&lt;/div&gt;&lt;/body&gt;&lt;/html&gt;</th>\n",
              "    </tr>\n",
              "  </thead>\n",
              "  <tbody>\n",
              "  </tbody>\n",
              "</table>\n",
              "</div>\n",
              "    <div class=\"colab-df-buttons\">\n",
              "\n",
              "  <div class=\"colab-df-container\">\n",
              "    <button class=\"colab-df-convert\" onclick=\"convertToInteractive('df-35638be2-3030-43f2-b3cc-c1a50c5dcf4e')\"\n",
              "            title=\"Convert this dataframe to an interactive table.\"\n",
              "            style=\"display:none;\">\n",
              "\n",
              "  <svg xmlns=\"http://www.w3.org/2000/svg\" height=\"24px\" viewBox=\"0 -960 960 960\">\n",
              "    <path d=\"M120-120v-720h720v720H120Zm60-500h600v-160H180v160Zm220 220h160v-160H400v160Zm0 220h160v-160H400v160ZM180-400h160v-160H180v160Zm440 0h160v-160H620v160ZM180-180h160v-160H180v160Zm440 0h160v-160H620v160Z\"/>\n",
              "  </svg>\n",
              "    </button>\n",
              "\n",
              "  <style>\n",
              "    .colab-df-container {\n",
              "      display:flex;\n",
              "      gap: 12px;\n",
              "    }\n",
              "\n",
              "    .colab-df-convert {\n",
              "      background-color: #E8F0FE;\n",
              "      border: none;\n",
              "      border-radius: 50%;\n",
              "      cursor: pointer;\n",
              "      display: none;\n",
              "      fill: #1967D2;\n",
              "      height: 32px;\n",
              "      padding: 0 0 0 0;\n",
              "      width: 32px;\n",
              "    }\n",
              "\n",
              "    .colab-df-convert:hover {\n",
              "      background-color: #E2EBFA;\n",
              "      box-shadow: 0px 1px 2px rgba(60, 64, 67, 0.3), 0px 1px 3px 1px rgba(60, 64, 67, 0.15);\n",
              "      fill: #174EA6;\n",
              "    }\n",
              "\n",
              "    .colab-df-buttons div {\n",
              "      margin-bottom: 4px;\n",
              "    }\n",
              "\n",
              "    [theme=dark] .colab-df-convert {\n",
              "      background-color: #3B4455;\n",
              "      fill: #D2E3FC;\n",
              "    }\n",
              "\n",
              "    [theme=dark] .colab-df-convert:hover {\n",
              "      background-color: #434B5C;\n",
              "      box-shadow: 0px 1px 3px 1px rgba(0, 0, 0, 0.15);\n",
              "      filter: drop-shadow(0px 1px 2px rgba(0, 0, 0, 0.3));\n",
              "      fill: #FFFFFF;\n",
              "    }\n",
              "  </style>\n",
              "\n",
              "    <script>\n",
              "      const buttonEl =\n",
              "        document.querySelector('#df-35638be2-3030-43f2-b3cc-c1a50c5dcf4e button.colab-df-convert');\n",
              "      buttonEl.style.display =\n",
              "        google.colab.kernel.accessAllowed ? 'block' : 'none';\n",
              "\n",
              "      async function convertToInteractive(key) {\n",
              "        const element = document.querySelector('#df-35638be2-3030-43f2-b3cc-c1a50c5dcf4e');\n",
              "        const dataTable =\n",
              "          await google.colab.kernel.invokeFunction('convertToInteractive',\n",
              "                                                    [key], {});\n",
              "        if (!dataTable) return;\n",
              "\n",
              "        const docLinkHtml = 'Like what you see? Visit the ' +\n",
              "          '<a target=\"_blank\" href=https://colab.research.google.com/notebooks/data_table.ipynb>data table notebook</a>'\n",
              "          + ' to learn more about interactive tables.';\n",
              "        element.innerHTML = '';\n",
              "        dataTable['output_type'] = 'display_data';\n",
              "        await google.colab.output.renderOutput(dataTable, element);\n",
              "        const docLink = document.createElement('div');\n",
              "        docLink.innerHTML = docLinkHtml;\n",
              "        element.appendChild(docLink);\n",
              "      }\n",
              "    </script>\n",
              "  </div>\n",
              "\n",
              "\n",
              "    </div>\n",
              "  </div>\n"
            ],
            "application/vnd.google.colaboratory.intrinsic+json": {
              "type": "dataframe",
              "variable_name": "df",
              "repr_error": "Out of range float values are not JSON compliant: nan"
            }
          },
          "metadata": {},
          "execution_count": 14
        }
      ],
      "source": [
        "#import data set\n",
        "import pandas as pd\n",
        "df = pd.read_csv('https://www.google.com/url?q=https%3A%2F%2Fwww.kaggle.com%2Fdatasets%2Fbhadramohit%2Fcustomer-shopping-latest-trends-dataset')\n",
        "df.head()"
      ]
    },
    {
      "cell_type": "code",
      "execution_count": 15,
      "metadata": {
        "colab": {
          "base_uri": "https://localhost:8080/"
        },
        "id": "X_WdAPSaETK6",
        "outputId": "256acf2b-1470-48a7-cf78-49a4ba3708cc"
      },
      "outputs": [
        {
          "output_type": "stream",
          "name": "stdout",
          "text": [
            "<class 'pandas.core.frame.DataFrame'>\n",
            "RangeIndex: 0 entries\n",
            "Data columns (total 6 columns):\n",
            " #   Column                                                                                                                                                                                                                                                                                                                                                                                                                                                                                                                                                                                                                                                                                                                                                                                                         Non-Null Count  Dtype \n",
            "---  ------                                                                                                                                                                                                                                                                                                                                                                                                                                                                                                                                                                                                                                                                                                                                                                                                         --------------  ----- \n",
            " 0   <html lang=\"en\"><head><meta http-equiv=\"Content-Type\" content=\"text/html; charset=ISO-8859-1\"><title>Redirect Notice</title><style>body                                                                                                                                                                                                                                                                                                                                                                                                                                                                                                                                                                                                                                                                        0 non-null      object\n",
            " 1   div                                                                                                                                                                                                                                                                                                                                                                                                                                                                                                                                                                                                                                                                                                                                                                                                            0 non-null      object\n",
            " 2   a{font-family:sans-serif}body{background-color:#fff;margin-top:3px}div{color:#000}a:link{color:#681da8}a:visited{color:#681da8}a:active{color:#ea4335}div.mymGo{border-top:1px solid #dadce0;border-bottom:1px solid #dadce0;background:#f8f9fa;margin-top:1em;width:100%}div.aXgaGb{padding:0.5em 0;margin-left:10px}div.fTk7vd{margin-left:35px;margin-top:35px}</style></head><body><div class=\"mymGo\"><div class=\"aXgaGb\"><font style=\"font-size:larger\"><b>Redirect Notice</b></font></div></div><div class=\"fTk7vd\">&nbsp;The previous page is sending you to <a href=\"https://www.kaggle.com/datasets/bhadramohit/customer-shopping-latest-trends-dataset\">https://www.kaggle.com/datasets/bhadramohit/customer-shopping-latest-trends-dataset</a>.<br><br>&nbsp;If you do not want to visit that page  0 non-null      object\n",
            " 3    you can <a href=\"#\" id=\"tsuid_JN0jaIbIDbf3kPIP2PiE-Ao_1\">return to the previous page</a>.<script nonce=\"B06zb0xabFNPfFtullyAZQ\">(function(){var id='tsuid_JN0jaIbIDbf3kPIP2PiE-Ao_1';(function(){document.getElementById(id).onclick=function(){window.history.back();return!1};}).call(this);})();(function(){var id='tsuid_JN0jaIbIDbf3kPIP2PiE-Ao_1';var ct='originlink';var oi='unauthorizedredirect';(function(){document.getElementById(id).onmousedown=function(){var b=document&&document.referrer                                                                                                                                                                                                                                                                                                    0 non-null      object\n",
            " 4   a=\"encodeURIComponent\"in window?encodeURIComponent:escape                                                                                                                                                                                                                                                                                                                                                                                                                                                                                                                                                                                                                                                                                                                                                      0 non-null      object\n",
            " 5   c=\"\";b&&(c=a(b));(new Image).src=\"/url?sa=T&url=\"+c+\"&oi=\"+a(oi)+\"&ct=\"+a(ct);return!1};}).call(this);})();</script><br><br><br></div></body></html>                                                                                                                                                                                                                                                                                                                                                                                                                                                                                                                                                                                                                                                           0 non-null      object\n",
            "dtypes: object(6)\n",
            "memory usage: 132.0+ bytes\n"
          ]
        }
      ],
      "source": [
        "#quick summary\n",
        "df.info()"
      ]
    },
    {
      "cell_type": "code",
      "execution_count": 17,
      "metadata": {
        "colab": {
          "base_uri": "https://localhost:8080/"
        },
        "id": "s0OsbkafEUHv",
        "outputId": "630d6b92-00d2-4c0e-bf82-9ebefffd1fe8"
      },
      "outputs": [
        {
          "output_type": "stream",
          "name": "stdout",
          "text": [
            "\n",
            "Missing values per column:\n",
            "<html lang=\"en\"><head><meta http-equiv=\"Content-Type\" content=\"text/html; charset=ISO-8859-1\"><title>Redirect Notice</title><style>body                                                                                                                                                                                                                                                                                                                                                                                                                                                                                                                                                                                                                                                                          0\n",
            "div                                                                                                                                                                                                                                                                                                                                                                                                                                                                                                                                                                                                                                                                                                                                                                                                              0\n",
            "a{font-family:sans-serif}body{background-color:#fff;margin-top:3px}div{color:#000}a:link{color:#681da8}a:visited{color:#681da8}a:active{color:#ea4335}div.mymGo{border-top:1px solid #dadce0;border-bottom:1px solid #dadce0;background:#f8f9fa;margin-top:1em;width:100%}div.aXgaGb{padding:0.5em 0;margin-left:10px}div.fTk7vd{margin-left:35px;margin-top:35px}</style></head><body><div class=\"mymGo\"><div class=\"aXgaGb\"><font style=\"font-size:larger\"><b>Redirect Notice</b></font></div></div><div class=\"fTk7vd\">&nbsp;The previous page is sending you to <a href=\"https://www.kaggle.com/datasets/bhadramohit/customer-shopping-latest-trends-dataset\">https://www.kaggle.com/datasets/bhadramohit/customer-shopping-latest-trends-dataset</a>.<br><br>&nbsp;If you do not want to visit that page    0\n",
            " you can <a href=\"#\" id=\"tsuid_JN0jaIbIDbf3kPIP2PiE-Ao_1\">return to the previous page</a>.<script nonce=\"B06zb0xabFNPfFtullyAZQ\">(function(){var id='tsuid_JN0jaIbIDbf3kPIP2PiE-Ao_1';(function(){document.getElementById(id).onclick=function(){window.history.back();return!1};}).call(this);})();(function(){var id='tsuid_JN0jaIbIDbf3kPIP2PiE-Ao_1';var ct='originlink';var oi='unauthorizedredirect';(function(){document.getElementById(id).onmousedown=function(){var b=document&&document.referrer                                                                                                                                                                                                                                                                                                      0\n",
            "a=\"encodeURIComponent\"in window?encodeURIComponent:escape                                                                                                                                                                                                                                                                                                                                                                                                                                                                                                                                                                                                                                                                                                                                                        0\n",
            "c=\"\";b&&(c=a(b));(new Image).src=\"/url?sa=T&url=\"+c+\"&oi=\"+a(oi)+\"&ct=\"+a(ct);return!1};}).call(this);})();</script><br><br><br></div></body></html>                                                                                                                                                                                                                                                                                                                                                                                                                                                                                                                                                                                                                                                             0\n",
            "dtype: int64\n"
          ]
        }
      ],
      "source": [
        "# find missing values\n",
        "print(\"\\nMissing values per column:\")\n",
        "print(df.isnull().sum())"
      ]
    },
    {
      "cell_type": "code",
      "execution_count": 18,
      "metadata": {
        "id": "PXuyvWlJDIwi"
      },
      "outputs": [],
      "source": [
        "# Drop rows with missing values\n",
        "df_cleaned = df.dropna()"
      ]
    },
    {
      "cell_type": "code",
      "execution_count": 19,
      "metadata": {
        "id": "nG7DaUIcGKak"
      },
      "outputs": [],
      "source": [
        "# Convert categorical columns to category dtype\n",
        "for col in ['Gender', 'Location', 'Category', 'Item Purchased', 'Payment Method']:\n",
        "    if col in df_cleaned.columns:\n",
        "        df_cleaned[col] = df_cleaned[col].astype('category')"
      ]
    },
    {
      "cell_type": "code",
      "execution_count": 20,
      "metadata": {
        "id": "MgT0daoYGKkK",
        "outputId": "9727dfce-a74f-4e34-8816-9f1c52bf1e5d",
        "colab": {
          "base_uri": "https://localhost:8080/",
          "height": 277
        }
      },
      "outputs": [
        {
          "output_type": "stream",
          "name": "stdout",
          "text": [
            "\n",
            "Preview of cleaned dataset:\n"
          ]
        },
        {
          "output_type": "display_data",
          "data": {
            "text/plain": [
              "Empty DataFrame\n",
              "Columns: [<html lang=\"en\"><head><meta http-equiv=\"Content-Type\" content=\"text/html; charset=ISO-8859-1\"><title>Redirect Notice</title><style>body, div, a{font-family:sans-serif}body{background-color:#fff;margin-top:3px}div{color:#000}a:link{color:#681da8}a:visited{color:#681da8}a:active{color:#ea4335}div.mymGo{border-top:1px solid #dadce0;border-bottom:1px solid #dadce0;background:#f8f9fa;margin-top:1em;width:100%}div.aXgaGb{padding:0.5em 0;margin-left:10px}div.fTk7vd{margin-left:35px;margin-top:35px}</style></head><body><div class=\"mymGo\"><div class=\"aXgaGb\"><font style=\"font-size:larger\"><b>Redirect Notice</b></font></div></div><div class=\"fTk7vd\">&nbsp;The previous page is sending you to <a href=\"https://www.kaggle.com/datasets/bhadramohit/customer-shopping-latest-trends-dataset\">https://www.kaggle.com/datasets/bhadramohit/customer-shopping-latest-trends-dataset</a>.<br><br>&nbsp;If you do not want to visit that page,  you can <a href=\"#\" id=\"tsuid_JN0jaIbIDbf3kPIP2PiE-Ao_1\">return to the previous page</a>.<script nonce=\"B06zb0xabFNPfFtullyAZQ\">(function(){var id='tsuid_JN0jaIbIDbf3kPIP2PiE-Ao_1';(function(){document.getElementById(id).onclick=function(){window.history.back();return!1};}).call(this);})();(function(){var id='tsuid_JN0jaIbIDbf3kPIP2PiE-Ao_1';var ct='originlink';var oi='unauthorizedredirect';(function(){document.getElementById(id).onmousedown=function(){var b=document&&document.referrer, a=\"encodeURIComponent\"in window?encodeURIComponent:escape, c=\"\";b&&(c=a(b));(new Image).src=\"/url?sa=T&url=\"+c+\"&oi=\"+a(oi)+\"&ct=\"+a(ct);return!1};}).call(this);})();</script><br><br><br></div></body></html>]\n",
              "Index: []"
            ],
            "text/html": [
              "\n",
              "  <div id=\"df-0ae74f62-abd0-4b4b-a78d-8276ea28d7c6\" class=\"colab-df-container\">\n",
              "    <div>\n",
              "<style scoped>\n",
              "    .dataframe tbody tr th:only-of-type {\n",
              "        vertical-align: middle;\n",
              "    }\n",
              "\n",
              "    .dataframe tbody tr th {\n",
              "        vertical-align: top;\n",
              "    }\n",
              "\n",
              "    .dataframe thead th {\n",
              "        text-align: right;\n",
              "    }\n",
              "</style>\n",
              "<table border=\"1\" class=\"dataframe\">\n",
              "  <thead>\n",
              "    <tr style=\"text-align: right;\">\n",
              "      <th></th>\n",
              "      <th>&lt;html lang=\"en\"&gt;&lt;head&gt;&lt;meta http-equiv=\"Content-Type\" content=\"text/html; charset=ISO-8859-1\"&gt;&lt;title&gt;Redirect Notice&lt;/title&gt;&lt;style&gt;body</th>\n",
              "      <th>div</th>\n",
              "      <th>a{font-family:sans-serif}body{background-color:#fff;margin-top:3px}div{color:#000}a:link{color:#681da8}a:visited{color:#681da8}a:active{color:#ea4335}div.mymGo{border-top:1px solid #dadce0;border-bottom:1px solid #dadce0;background:#f8f9fa;margin-top:1em;width:100%}div.aXgaGb{padding:0.5em 0;margin-left:10px}div.fTk7vd{margin-left:35px;margin-top:35px}&lt;/style&gt;&lt;/head&gt;&lt;body&gt;&lt;div class=\"mymGo\"&gt;&lt;div class=\"aXgaGb\"&gt;&lt;font style=\"font-size:larger\"&gt;&lt;b&gt;Redirect Notice&lt;/b&gt;&lt;/font&gt;&lt;/div&gt;&lt;/div&gt;&lt;div class=\"fTk7vd\"&gt;&amp;nbsp;The previous page is sending you to &lt;a href=\"https://www.kaggle.com/datasets/bhadramohit/customer-shopping-latest-trends-dataset\"&gt;https://www.kaggle.com/datasets/bhadramohit/customer-shopping-latest-trends-dataset&lt;/a&gt;.&lt;br&gt;&lt;br&gt;&amp;nbsp;If you do not want to visit that page</th>\n",
              "      <th>you can &lt;a href=\"#\" id=\"tsuid_JN0jaIbIDbf3kPIP2PiE-Ao_1\"&gt;return to the previous page&lt;/a&gt;.&lt;script nonce=\"B06zb0xabFNPfFtullyAZQ\"&gt;(function(){var id='tsuid_JN0jaIbIDbf3kPIP2PiE-Ao_1';(function(){document.getElementById(id).onclick=function(){window.history.back();return!1};}).call(this);})();(function(){var id='tsuid_JN0jaIbIDbf3kPIP2PiE-Ao_1';var ct='originlink';var oi='unauthorizedredirect';(function(){document.getElementById(id).onmousedown=function(){var b=document&amp;&amp;document.referrer</th>\n",
              "      <th>a=\"encodeURIComponent\"in window?encodeURIComponent:escape</th>\n",
              "      <th>c=\"\";b&amp;&amp;(c=a(b));(new Image).src=\"/url?sa=T&amp;url=\"+c+\"&amp;oi=\"+a(oi)+\"&amp;ct=\"+a(ct);return!1};}).call(this);})();&lt;/script&gt;&lt;br&gt;&lt;br&gt;&lt;br&gt;&lt;/div&gt;&lt;/body&gt;&lt;/html&gt;</th>\n",
              "    </tr>\n",
              "  </thead>\n",
              "  <tbody>\n",
              "  </tbody>\n",
              "</table>\n",
              "</div>\n",
              "    <div class=\"colab-df-buttons\">\n",
              "\n",
              "  <div class=\"colab-df-container\">\n",
              "    <button class=\"colab-df-convert\" onclick=\"convertToInteractive('df-0ae74f62-abd0-4b4b-a78d-8276ea28d7c6')\"\n",
              "            title=\"Convert this dataframe to an interactive table.\"\n",
              "            style=\"display:none;\">\n",
              "\n",
              "  <svg xmlns=\"http://www.w3.org/2000/svg\" height=\"24px\" viewBox=\"0 -960 960 960\">\n",
              "    <path d=\"M120-120v-720h720v720H120Zm60-500h600v-160H180v160Zm220 220h160v-160H400v160Zm0 220h160v-160H400v160ZM180-400h160v-160H180v160Zm440 0h160v-160H620v160ZM180-180h160v-160H180v160Zm440 0h160v-160H620v160Z\"/>\n",
              "  </svg>\n",
              "    </button>\n",
              "\n",
              "  <style>\n",
              "    .colab-df-container {\n",
              "      display:flex;\n",
              "      gap: 12px;\n",
              "    }\n",
              "\n",
              "    .colab-df-convert {\n",
              "      background-color: #E8F0FE;\n",
              "      border: none;\n",
              "      border-radius: 50%;\n",
              "      cursor: pointer;\n",
              "      display: none;\n",
              "      fill: #1967D2;\n",
              "      height: 32px;\n",
              "      padding: 0 0 0 0;\n",
              "      width: 32px;\n",
              "    }\n",
              "\n",
              "    .colab-df-convert:hover {\n",
              "      background-color: #E2EBFA;\n",
              "      box-shadow: 0px 1px 2px rgba(60, 64, 67, 0.3), 0px 1px 3px 1px rgba(60, 64, 67, 0.15);\n",
              "      fill: #174EA6;\n",
              "    }\n",
              "\n",
              "    .colab-df-buttons div {\n",
              "      margin-bottom: 4px;\n",
              "    }\n",
              "\n",
              "    [theme=dark] .colab-df-convert {\n",
              "      background-color: #3B4455;\n",
              "      fill: #D2E3FC;\n",
              "    }\n",
              "\n",
              "    [theme=dark] .colab-df-convert:hover {\n",
              "      background-color: #434B5C;\n",
              "      box-shadow: 0px 1px 3px 1px rgba(0, 0, 0, 0.15);\n",
              "      filter: drop-shadow(0px 1px 2px rgba(0, 0, 0, 0.3));\n",
              "      fill: #FFFFFF;\n",
              "    }\n",
              "  </style>\n",
              "\n",
              "    <script>\n",
              "      const buttonEl =\n",
              "        document.querySelector('#df-0ae74f62-abd0-4b4b-a78d-8276ea28d7c6 button.colab-df-convert');\n",
              "      buttonEl.style.display =\n",
              "        google.colab.kernel.accessAllowed ? 'block' : 'none';\n",
              "\n",
              "      async function convertToInteractive(key) {\n",
              "        const element = document.querySelector('#df-0ae74f62-abd0-4b4b-a78d-8276ea28d7c6');\n",
              "        const dataTable =\n",
              "          await google.colab.kernel.invokeFunction('convertToInteractive',\n",
              "                                                    [key], {});\n",
              "        if (!dataTable) return;\n",
              "\n",
              "        const docLinkHtml = 'Like what you see? Visit the ' +\n",
              "          '<a target=\"_blank\" href=https://colab.research.google.com/notebooks/data_table.ipynb>data table notebook</a>'\n",
              "          + ' to learn more about interactive tables.';\n",
              "        element.innerHTML = '';\n",
              "        dataTable['output_type'] = 'display_data';\n",
              "        await google.colab.output.renderOutput(dataTable, element);\n",
              "        const docLink = document.createElement('div');\n",
              "        docLink.innerHTML = docLinkHtml;\n",
              "        element.appendChild(docLink);\n",
              "      }\n",
              "    </script>\n",
              "  </div>\n",
              "\n",
              "\n",
              "    </div>\n",
              "  </div>\n"
            ],
            "application/vnd.google.colaboratory.intrinsic+json": {
              "type": "dataframe",
              "repr_error": "Out of range float values are not JSON compliant: nan"
            }
          },
          "metadata": {}
        }
      ],
      "source": [
        "# cleaned dataset\n",
        "print(\"\\nPreview of cleaned dataset:\")\n",
        "display(df_cleaned.head())"
      ]
    },
    {
      "cell_type": "markdown",
      "metadata": {
        "id": "QjacdQprDIwi"
      },
      "source": [
        "# Ethics & Privacy"
      ]
    },
    {
      "cell_type": "markdown",
      "metadata": {
        "id": "iBrdxTwMDIwi"
      },
      "source": [
        "There are several privacy and ethical concerns that our project may face when predicting the next clothing purchase categories of customers. Initially, we have customer demographic information (age, gender, location) in our dataset, which raises privacy concerns. Even though the data appears to be anonymous, we have to make sure there is no personally identifiable information that can be acquired during analysis or in our final results. Additionally, we will not attempt any re-identification of individuals and will present only general patterns. Furthermore, bias is another problem/concern we many face. The data set can be unrepresentative of all customer groups, especially if it skews toward particular groups (e.g., younger users, some geographic locations, or predominantly online shoppers). If the training data set under-represents some groups, it can lead to unjust/biased results. For instance, fashion trends may vary drastically by culture and geography and, if improperly represented, the model will make inaccurate predictions for them. To address such issues, we will inspect the distribution of the dataset along key demographic axes before constructing models, looking for skew (e.g., drastically more young customers than elderly ones). If there are extreme imbalances, we will consider techniques like stratified sampling, weighting, or reporting results separately across different subgroups. During analysis, we will monitor model performance for differences between demographic slices to detect biased results. After analysis is finished, we will openly report any biases or data limitations that may impact generalization. Throughout the project, we will maintain a strong focus on not infringing on user privacy, and ensuring that no outputs would be capable of harming or misleading individuals or groups.\n"
      ]
    },
    {
      "cell_type": "markdown",
      "metadata": {
        "id": "BSFZqHwZDIwi"
      },
      "source": [
        "# Team Expectations"
      ]
    },
    {
      "cell_type": "markdown",
      "metadata": {
        "id": "LMKIn9wvDIwi"
      },
      "source": [
        "**Team Expectation 1: Communication**  \n",
        "-Our team will communicate through Discord, actively participating and messenging each other about the project.  \n",
        "-Team members are expected to respond to messages within 24 hours.  \n",
        "-We will meet once per week on Zoom or Geisel and add extra meetings as needed near deadlines.  \n",
        "-If someone cannot attend a meeting, they must notify the group at least 12 hours in advance.\n",
        "\n",
        "**Team Expectation 2: Tone and Respect**  \n",
        "-We expect a polite, clear, and honest feedback while staying respectful at all times.  \n",
        "-Team members will discuss critiques in a respectful amnner, agreeing on what to change.  \n",
        "-Everyone is encouraged to share ideas and contribute work.\n",
        "\n",
        "**Team Expectation 3: Decision Making**  \n",
        "-Decisions will be made using the majority of group members opionons.  \n",
        "-If a teammate is unresponsive for more than 48 hours, the rest of the team can proceed without them.  \n",
        "-Major project choices (dataset, models, deliverables) will require everyone’s input.\n",
        "\n",
        "**Team Expectation 4: Task Assignment and Management**  \n",
        "-We will divide tasks by skill and interest, but everyone must contribute to both coding and writing aspects.  \n",
        "-Tasks will be tracked using a Google Docs task board, where each task will have a due date and an assigned team member.  \n",
        "-Members should update the board after completing their assigned tasks.\n",
        "\n",
        "**Team Expectation 5: Handling Struggles and Conflict**  \n",
        "-If a member is struggling with a tasks, they can ask the team for help or reassign tasks.  \n",
        "-In case of conflict, we will first have an open conversation during a meeting.  \n",
        "-If unresolved, the issue will be documented and escalated to the professor by Week 7 if necessary.  \n",
        "-We agree to assume good intentions and give others the benefit of the doubt before escalating any conflict.\n"
      ]
    },
    {
      "cell_type": "markdown",
      "metadata": {
        "id": "W-v-r4-uDIwi"
      },
      "source": [
        "# Project Timeline Proposal"
      ]
    },
    {
      "cell_type": "markdown",
      "metadata": {
        "id": "0e9Ntw8wDIwi"
      },
      "source": [
        "Specify your team's specific project timeline. An example timeline has been provided. Changes the dates, times, names, and details to fit your group's plan.\n",
        "\n",
        "If you think you will need any special resources or training outside what we have covered in COGS 108 to solve your problem, then your proposal should state these clearly. For example, if you have selected a problem that involves implementing multiple neural networks, please state this so we can make sure you know what you’re doing and so we can point you to resources you will need to implement your project. Note that you are not required to use outside methods.\n",
        "\n",
        "\n",
        "\n",
        "| Meeting Date  | Meeting Time| Completed Before Meeting  | Discuss at Meeting |\n",
        "|---|---|---|---|\n",
        "| 4/30  |  5 PM | Look at research articles related to the topic  | Make sure all parts of the assignment are complete; Finalize question and topic for the project; Turn in proposal|\n",
        "| 5/3  |  2 PM |  Do background research on topic | Discuss how the found datasets can be used to find an answer to our question |\n",
        "| 5/13  | 5 PM  | Prepare materials necessary for Data checkpoint submission  | Turn in data checkpoint; Discuss how best to perform the data wrangling and EDA   |\n",
        "| 5/17  | 2 PM  | Prepare ideas for EDA process | Finalize EDA process; Begin work on EDA   |\n",
        "| 5/27  | 5 PM  | Finalize wrangling/EDA | Finish and submit EDA checkpoint; Begin work on the analysis |\n",
        "| 5/31  | 2 PM  | Complete analysis| Begin drafts of final conclusions and write ups of the for the project |\n",
        "| 6/1  | Before 11:59 PM  | NA | Turn in Final Project & video |"
      ]
    }
  ],
  "metadata": {
    "kernelspec": {
      "display_name": "Python 3 (ipykernel)",
      "language": "python",
      "name": "python3"
    },
    "language_info": {
      "codemirror_mode": {
        "name": "ipython",
        "version": 3
      },
      "file_extension": ".py",
      "mimetype": "text/x-python",
      "name": "python",
      "nbconvert_exporter": "python",
      "pygments_lexer": "ipython3",
      "version": "3.9.7"
    },
    "colab": {
      "provenance": []
    }
  },
  "nbformat": 4,
  "nbformat_minor": 0
}