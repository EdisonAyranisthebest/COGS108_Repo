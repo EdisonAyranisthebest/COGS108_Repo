{
  "cells": [
    {
      "cell_type": "markdown",
      "metadata": {
        "id": "Numkuj4aDIwb"
      },
      "source": [
        "**If you lost points on the last checkpoint you can get them back by responding to TA/IA feedback**  \n",
        "\n",
        "Update/change the relevant sections where you lost those points, make sure you respond on GitHub Issues to your TA/IA to call their attention to the changes you made here.\n",
        "\n",
        "Please update your Timeline... no battle plan survives contact with the enemy, so make sure we understand how your plans have changed."
      ]
    },
    {
      "cell_type": "markdown",
      "metadata": {
        "id": "xaT-H3DTDIwe"
      },
      "source": [
        "# COGS 108 - Data Checkpoint"
      ]
    },
    {
      "cell_type": "markdown",
      "metadata": {
        "id": "mT1M6mXbDIwe"
      },
      "source": [
        "# Names\n",
        "\n",
        "- Eram Rahman\n",
        "- Edison Ayran\n",
        "- Oliver Chen\n",
        "- Yi-An Chao\n",
        "- Yadushan Thillainathan"
      ]
    },
    {
      "cell_type": "markdown",
      "metadata": {
        "id": "nGUB0KDEDIwf"
      },
      "source": [
        "# Research Question"
      ]
    },
    {
      "cell_type": "markdown",
      "metadata": {
        "id": "nWUX7L3hDIwf"
      },
      "source": [
        "Can an American customer's next clothing purchase category be predicted using seasonal timing and demographic attributes such as age, gender, and location?"
      ]
    },
    {
      "cell_type": "markdown",
      "metadata": {
        "id": "CXAR38cxDIwf"
      },
      "source": [
        "## Background and Prior Work"
      ]
    },
    {
      "cell_type": "markdown",
      "metadata": {
        "id": "XHHbWVkcDIwf"
      },
      "source": [
        "As e-commerce is becoming more of an important part of our everyday lives with us buying things from clothes to even food through online shopping, it is important for businesses to track these purchases and predict a customer's next purchase. By using the customer age, gender, and location along with common seasonal purchasing behaviors companies would be able to prepare to aid the customer needs. This would lead to greater customer satisfaction and loyalty as companies would be selling goods of greater importance to the customers. This would also aid companies in inventory management, marketing strategies and much more. Overall, being able to predict customers next purchase is important for customer satisfaction and building a business.\n",
        "\n",
        "Previous research has explored various ways to predict consumer behavior based on transactional history and demographic attributes. In a research paper called 'Predicting the Category of Customers’ Next Product to Buy in Web Shops' the researchers were able to develop a Sequential Event Prediction (SEP) model to predict the  next product category a customer will purchase as a webshop. Their model used general and also cusomter-specific purchasing behaviors and information to improve customer purchase predictions. The model with individual information and behaviors yielded an accuracy of 47.7%, the one with general information, 50.3%, and the mixed model, 50.7% <a name=\"cite_ref-1\"></a>[<sup>1</sup>](https://www.researchgate.net/publication/360448047_Predicting_the_category_of_customers'_next_product_to_buy_in_web_shops). This research paper showed how using customer-specific information along with general information is an important method to predict a customers next purchase category.\n",
        "\n",
        "Another study titled \"Predicting Customer Purchase Behavior Using Machine Learning Models\" explored how demographic variables such as age, gender, and income can be used to predict purchasing behavior. The researchers trained machine laarning models like decision trees and random forests to successfully predict what products customers were likely to buy. Their work highlighted that demographic attributes are important predictors of consumer behavior and can help companies better target marketing efforts and inventory planning. <a name=\"cite_ref-2\"></a>[<sup>2</sup>](https://www.researchgate.net/publication/382768389_Predicting_Customer_Purchase_Behavior_Using_Machine_Learning_Models)\n",
        "\n",
        "1. <a name=\"cite_note-1\"></a> [](#cite_ref-1) Rekasiute, Laura & Palenzuela, Alvaro & Salnaite, Nijole & Cuenca, Ramon & Frasincar, Flavius. (2022). Predicting the category of customers' next product to buy in web shops.\n",
        " https://www.researchgate.net/publication/360448047_Predicting_the_category_of_customers'_next_product_to_buy_in_web_shops\n",
        "2. <a name=\"cite_note-2\"></a> [](#cite_ref-2) Deniz, E. and Bülbül, S. Ç. PredictingCustomer Purchase Behavior Using Machine Learning Models.Information Technology in Economics and Business, 1(1), 1-6, 2024. https://www.researchgate.net/publication/382768389_Predicting_Customer_Purchase_Behavior_Using_Machine_Learning_Models"
      ]
    },
    {
      "cell_type": "markdown",
      "metadata": {
        "id": "sLiHbHWwDIwg"
      },
      "source": [
        "# Hypothesis\n"
      ]
    },
    {
      "cell_type": "markdown",
      "metadata": {
        "id": "5vbnkkWtDIwg"
      },
      "source": [
        "\n",
        "We hypothesize that a customer's next clothing purchase category can be accurately predicted using seasonal and demographic information. Specifically, we expect that younger customers will illustrate stronger seasonal variation in their clothing purchases. For example, buying more summer apparel during warmer months, while older customers may present more consistent purchasing patterns across seasons. We believe this because due to social media being a huge part of the younger generations lives, they are more susceptible to social media influence (for example summer/winter outfits on media such as instagram or tiktok) thus leading to stronger seasonal variations in clothes purchases."
      ]
    },
    {
      "cell_type": "markdown",
      "metadata": {
        "id": "B_0kl6YKDIwg"
      },
      "source": [
        "# Data"
      ]
    },
    {
      "cell_type": "markdown",
      "metadata": {
        "id": "98Fcj8OcDIwh"
      },
      "source": [
        "## Data overview\n",
        "\n",
        "For each dataset include the following information\n",
        "- Dataset #1\n",
        "  - Dataset Name: Customer Shopping (Latest Trends) Dataset\n",
        "  - Link to the dataset: https://www.kaggle.com/datasets/bhadramohit/customer-shopping-latest-trends-dataset\n",
        "  - Number of observations:3900\n",
        "  - Number of variables:19\n",
        "\n",
        "Now write 2 - 5 sentences describing each dataset here. Include a short description of the important variables in the dataset; what the metrics and datatypes are, what concepts they may be proxies for. Include information about how you would need to wrangle/clean/preprocess the dataset\n",
        "\n",
        "This dataset contains 3,900 observations and 19 variables related to customer demographics, shopping behavior, and purchase data. Key variables include Age, Gender, Item Purchased, Purchase Amount, and Location, which can serve as proxies for consumer preferences and spending patterns. The data types include both categorical (e.g., Category, Gender) and numerical fields (e.g., Purchase Amount, Age). To prepare the dataset for analysis, it would require cleaning steps such as handling missing values, encoding categorical variables, and standardizing numerical values. This dataset is useful for identifying consumer trends, segmenting customer types, or building predictive models for marketing or retail decision-making.\n",
        "\n",
        "\n",
        "\n",
        "If you plan to use multiple datasets, add a few sentences about how you plan to combine these datasets."
      ]
    },
    {
      "cell_type": "markdown",
      "metadata": {
        "id": "eC0M_PwFDIwh"
      },
      "source": [
        "##Customer Shopping (Latest Trends) Dataset"
      ]
    },
    {
      "cell_type": "markdown",
      "metadata": {
        "id": "zJ3y0S8fDIwi"
      },
      "source": [
        "## Dataset #2 (if you have more than one, use name instead of number here)"
      ]
    },
    {
      "cell_type": "code",
      "execution_count": 2,
      "metadata": {
        "id": "bwrtm-gRDIwh"
      },
      "outputs": [],
      "source": [
        "## YOUR CODE TO LOAD/CLEAN/TIDY/WRANGLE THE DATA GOES HERE\n",
        "## import pandas as pd\n",
        "## df = pd.read_csv('shopping_trends.csv')\n",
        "## FEEL FREE TO ADD MULTIPLE CELLS PER SECTION"
      ]
    },
    {
      "cell_type": "code",
      "execution_count": null,
      "metadata": {
        "id": "X_WdAPSaETK6"
      },
      "outputs": [],
      "source": [
        "## YOUR CODE TO LOAD/CLEAN/TIDY/WRANGLE THE DATA GOES HERE\n",
        "## import pandas as pd\n",
        "## df = pd.read_csv('shopping_trends.csv')\n",
        "## FEEL FREE TO ADD MULTIPLE CELLS PER SECTION"
      ]
    },
    {
      "cell_type": "code",
      "execution_count": null,
      "metadata": {
        "id": "s0OsbkafEUHv"
      },
      "outputs": [],
      "source": [
        "## YOUR CODE TO LOAD/CLEAN/TIDY/WRANGLE THE DATA GOES HERE\n",
        "## import pandas as pd\n",
        "## df = pd.read_csv('shopping_trends.csv')\n",
        "## FEEL FREE TO ADD MULTIPLE CELLS PER SECTION"
      ]
    },
    {
      "cell_type": "code",
      "execution_count": null,
      "metadata": {
        "id": "PXuyvWlJDIwi"
      },
      "outputs": [],
      "source": [
        "## YOUR CODE TO LOAD/CLEAN/TIDY/WRANGLE THE DATA GOES HERE\n",
        "## FEEL FREE TO ADD MULTIPLE CELLS PER SECTION"
      ]
    },
    {
      "cell_type": "markdown",
      "metadata": {
        "id": "QjacdQprDIwi"
      },
      "source": [
        "# Ethics & Privacy"
      ]
    },
    {
      "cell_type": "markdown",
      "metadata": {
        "id": "iBrdxTwMDIwi"
      },
      "source": [
        "There are several privacy and ethical concerns that our project may face when predicting the next clothing purchase categories of customers. Initially, we have customer demographic information (age, gender, location) in our dataset, which raises privacy concerns. Even though the data appears to be anonymous, we have to make sure there is no personally identifiable information that can be acquired during analysis or in our final results. Additionally, we will not attempt any re-identification of individuals and will present only general patterns. Furthermore, bias is another problem/concern we many face. The data set can be unrepresentative of all customer groups, especially if it skews toward particular groups (e.g., younger users, some geographic locations, or predominantly online shoppers). If the training data set under-represents some groups, it can lead to unjust/biased results. For instance, fashion trends may vary drastically by culture and geography and, if improperly represented, the model will make inaccurate predictions for them. To address such issues, we will inspect the distribution of the dataset along key demographic axes before constructing models, looking for skew (e.g., drastically more young customers than elderly ones). If there are extreme imbalances, we will consider techniques like stratified sampling, weighting, or reporting results separately across different subgroups. During analysis, we will monitor model performance for differences between demographic slices to detect biased results. After analysis is finished, we will openly report any biases or data limitations that may impact generalization. Throughout the project, we will maintain a strong focus on not infringing on user privacy, and ensuring that no outputs would be capable of harming or misleading individuals or groups.\n"
      ]
    },
    {
      "cell_type": "markdown",
      "metadata": {
        "id": "BSFZqHwZDIwi"
      },
      "source": [
        "# Team Expectations"
      ]
    },
    {
      "cell_type": "markdown",
      "metadata": {
        "id": "LMKIn9wvDIwi"
      },
      "source": [
        "**Team Expectation 1: Communication**  \n",
        "-Our team will communicate through Discord, actively participating and messenging each other about the project.  \n",
        "-Team members are expected to respond to messages within 24 hours.  \n",
        "-We will meet once per week on Zoom or Geisel and add extra meetings as needed near deadlines.  \n",
        "-If someone cannot attend a meeting, they must notify the group at least 12 hours in advance.\n",
        "\n",
        "**Team Expectation 2: Tone and Respect**  \n",
        "-We expect a polite, clear, and honest feedback while staying respectful at all times.  \n",
        "-Team members will discuss critiques in a respectful amnner, agreeing on what to change.  \n",
        "-Everyone is encouraged to share ideas and contribute work.\n",
        "\n",
        "**Team Expectation 3: Decision Making**  \n",
        "-Decisions will be made using the majority of group members opionons.  \n",
        "-If a teammate is unresponsive for more than 48 hours, the rest of the team can proceed without them.  \n",
        "-Major project choices (dataset, models, deliverables) will require everyone’s input.\n",
        "\n",
        "**Team Expectation 4: Task Assignment and Management**  \n",
        "-We will divide tasks by skill and interest, but everyone must contribute to both coding and writing aspects.  \n",
        "-Tasks will be tracked using a Google Docs task board, where each task will have a due date and an assigned team member.  \n",
        "-Members should update the board after completing their assigned tasks.\n",
        "\n",
        "**Team Expectation 5: Handling Struggles and Conflict**  \n",
        "-If a member is struggling with a tasks, they can ask the team for help or reassign tasks.  \n",
        "-In case of conflict, we will first have an open conversation during a meeting.  \n",
        "-If unresolved, the issue will be documented and escalated to the professor by Week 7 if necessary.  \n",
        "-We agree to assume good intentions and give others the benefit of the doubt before escalating any conflict.\n"
      ]
    },
    {
      "cell_type": "markdown",
      "metadata": {
        "id": "W-v-r4-uDIwi"
      },
      "source": [
        "# Project Timeline Proposal"
      ]
    },
    {
      "cell_type": "markdown",
      "metadata": {
        "id": "0e9Ntw8wDIwi"
      },
      "source": [
        "Specify your team's specific project timeline. An example timeline has been provided. Changes the dates, times, names, and details to fit your group's plan.\n",
        "\n",
        "If you think you will need any special resources or training outside what we have covered in COGS 108 to solve your problem, then your proposal should state these clearly. For example, if you have selected a problem that involves implementing multiple neural networks, please state this so we can make sure you know what you’re doing and so we can point you to resources you will need to implement your project. Note that you are not required to use outside methods.\n",
        "\n",
        "\n",
        "\n",
        "| Meeting Date  | Meeting Time| Completed Before Meeting  | Discuss at Meeting |\n",
        "|---|---|---|---|\n",
        "| 4/30  |  5 PM | Look at research articles related to the topic  | Make sure all parts of the assignment are complete; Finalize question and topic for the project; Turn in proposal|\n",
        "| 5/3  |  2 PM |  Do background research on topic | Discuss how the found datasets can be used to find an answer to our question |\n",
        "| 5/13  | 5 PM  | Prepare materials necessary for Data checkpoint submission  | Turn in data checkpoint; Discuss how best to perform the data wrangling and EDA   |\n",
        "| 5/17  | 2 PM  | Prepare ideas for EDA process | Finalize EDA process; Begin work on EDA   |\n",
        "| 5/27  | 5 PM  | Finalize wrangling/EDA | Finish and submit EDA checkpoint; Begin work on the analysis |\n",
        "| 5/31  | 2 PM  | Complete analysis| Begin drafts of final conclusions and write ups of the for the project |\n",
        "| 6/1  | Before 11:59 PM  | NA | Turn in Final Project & video |"
      ]
    }
  ],
  "metadata": {
    "kernelspec": {
      "display_name": "Python 3 (ipykernel)",
      "language": "python",
      "name": "python3"
    },
    "language_info": {
      "codemirror_mode": {
        "name": "ipython",
        "version": 3
      },
      "file_extension": ".py",
      "mimetype": "text/x-python",
      "name": "python",
      "nbconvert_exporter": "python",
      "pygments_lexer": "ipython3",
      "version": "3.9.7"
    },
    "colab": {
      "provenance": []
    }
  },
  "nbformat": 4,
  "nbformat_minor": 0
}